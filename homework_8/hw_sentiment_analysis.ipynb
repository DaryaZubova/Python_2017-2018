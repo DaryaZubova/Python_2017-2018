{
 "cells": [
  {
   "cell_type": "markdown",
   "metadata": {},
   "source": [
    "# Homework: Sentiment analysis\n",
    "\n",
    "Для заданной тестовой выборки построить модель для предсказания тональности твита.  \n",
    "На заданном разбиении (df_train, df_test) ваша модель должна превзойти baseline'ы, приведенные ниже.  \n",
    "\n",
    "Чем больше baseline'ов вы превзойдете, тем выше ваша оценка.  \n",
    "Метрика качества f1 (f1_macro) (чем больше, тем лучше)\n",
    "\n",
    "baseline 0: 0.3319      random  \n",
    "baseline 1: 0.6941      text norm + word embedding + logistic regression\n",
    "baseline 2: 0.6990      tf-idf over words + logistic regression  \n",
    "baseline 3: 0.7418      tf-idf over symbols + logistic regression  \n",
    "\n",
    "Пока мы рассмотрели только линейные модели - поэтому в примерах есть только они. Желательно при решении домашнего задания пользоваться линейными моделями. Таким образом, основные цели задания - feature engineering, hyperparam tuning & model selection.\n",
    "\n",
    "! Your results must be reproducible. Если ваша модель - стохастическая, то вы явно должны задавать все seed и random_state в параметрах моделей  \n",
    "! Вы должны использовать df_test только для измерения качества конечной обученной модели. \n",
    "\n",
    "bonus, think about:\n",
    "1. why we selected f1 with macro averaging as our classification quality measure instead of others? look in docs  \n",
    "2. why word embeddings perform so poorly with linear models?  \n",
    "3. other ideas how to get text2vec from word2vec. look in docs  "
   ]
  },
  {
   "cell_type": "code",
   "execution_count": 1,
   "metadata": {},
   "outputs": [],
   "source": [
    "import pandas as pd\n",
    "import numpy as np\n",
    "from sklearn.model_selection import train_test_split, GridSearchCV\n",
    "from sklearn.preprocessing import LabelEncoder\n",
    "from sklearn import metrics\n",
    "\n",
    "import matplotlib.pyplot as plt\n",
    "import seaborn as sns\n",
    "\n",
    "%matplotlib inline\n",
    "\n",
    "\n",
    "SEED = 1337\n",
    "\n",
    "\n",
    "df = pd.read_csv('Tweets.csv')"
   ]
  },
  {
   "cell_type": "markdown",
   "metadata": {},
   "source": [
    "## Look at the data"
   ]
  },
  {
   "cell_type": "code",
   "execution_count": 2,
   "metadata": {},
   "outputs": [
    {
     "data": {
      "text/html": [
       "<div>\n",
       "<table border=\"1\" class=\"dataframe\">\n",
       "  <thead>\n",
       "    <tr style=\"text-align: right;\">\n",
       "      <th></th>\n",
       "      <th>tweet_id</th>\n",
       "      <th>airline_sentiment</th>\n",
       "      <th>airline</th>\n",
       "      <th>retweet_count</th>\n",
       "      <th>text</th>\n",
       "    </tr>\n",
       "  </thead>\n",
       "  <tbody>\n",
       "    <tr>\n",
       "      <th>0</th>\n",
       "      <td>570306133677760513</td>\n",
       "      <td>neutral</td>\n",
       "      <td>Virgin America</td>\n",
       "      <td>0</td>\n",
       "      <td>@VirginAmerica What @dhepburn said.</td>\n",
       "    </tr>\n",
       "    <tr>\n",
       "      <th>1</th>\n",
       "      <td>570301130888122368</td>\n",
       "      <td>positive</td>\n",
       "      <td>Virgin America</td>\n",
       "      <td>0</td>\n",
       "      <td>@VirginAmerica plus you've added commercials t...</td>\n",
       "    </tr>\n",
       "    <tr>\n",
       "      <th>2</th>\n",
       "      <td>570301083672813571</td>\n",
       "      <td>neutral</td>\n",
       "      <td>Virgin America</td>\n",
       "      <td>0</td>\n",
       "      <td>@VirginAmerica I didn't today... Must mean I n...</td>\n",
       "    </tr>\n",
       "    <tr>\n",
       "      <th>3</th>\n",
       "      <td>570301031407624196</td>\n",
       "      <td>negative</td>\n",
       "      <td>Virgin America</td>\n",
       "      <td>0</td>\n",
       "      <td>@VirginAmerica it's really aggressive to blast...</td>\n",
       "    </tr>\n",
       "    <tr>\n",
       "      <th>4</th>\n",
       "      <td>570300817074462722</td>\n",
       "      <td>negative</td>\n",
       "      <td>Virgin America</td>\n",
       "      <td>0</td>\n",
       "      <td>@VirginAmerica and it's a really big bad thing...</td>\n",
       "    </tr>\n",
       "  </tbody>\n",
       "</table>\n",
       "</div>"
      ],
      "text/plain": [
       "             tweet_id airline_sentiment         airline  retweet_count  \\\n",
       "0  570306133677760513           neutral  Virgin America              0   \n",
       "1  570301130888122368          positive  Virgin America              0   \n",
       "2  570301083672813571           neutral  Virgin America              0   \n",
       "3  570301031407624196          negative  Virgin America              0   \n",
       "4  570300817074462722          negative  Virgin America              0   \n",
       "\n",
       "                                                text  \n",
       "0                @VirginAmerica What @dhepburn said.  \n",
       "1  @VirginAmerica plus you've added commercials t...  \n",
       "2  @VirginAmerica I didn't today... Must mean I n...  \n",
       "3  @VirginAmerica it's really aggressive to blast...  \n",
       "4  @VirginAmerica and it's a really big bad thing...  "
      ]
     },
     "execution_count": 2,
     "metadata": {},
     "output_type": "execute_result"
    }
   ],
   "source": [
    "df.head()"
   ]
  },
  {
   "cell_type": "code",
   "execution_count": 3,
   "metadata": {},
   "outputs": [
    {
     "data": {
      "text/plain": [
       "negative    0.626913\n",
       "neutral     0.211680\n",
       "positive    0.161407\n",
       "Name: airline_sentiment, dtype: float64"
      ]
     },
     "execution_count": 3,
     "metadata": {},
     "output_type": "execute_result"
    }
   ],
   "source": [
    "# main reason we have chosen f1 is that class distribution is imbalanced\n",
    "df.airline_sentiment.value_counts(normalize=True)"
   ]
  },
  {
   "cell_type": "code",
   "execution_count": 4,
   "metadata": {},
   "outputs": [
    {
     "data": {
      "image/png": "[encoded data removed]",
      "text/plain": [
       "<matplotlib.figure.Figure at 0x11097ada0>"
      ]
     },
     "metadata": {},
     "output_type": "display_data"
    }
   ],
   "source": [
    "# class distribution over airlines\n",
    "pd.pivot_table(df, index='airline', values='tweet_id', columns='airline_sentiment', aggfunc='count').plot.bar();"
   ]
  },
  {
   "cell_type": "code",
   "execution_count": 5,
   "metadata": {},
   "outputs": [
    {
     "data": {
      "image/png": "[encoded data removed]",
      "text/plain": [
       "<matplotlib.figure.Figure at 0x115da63c8>"
      ]
     },
     "metadata": {},
     "output_type": "display_data"
    }
   ],
   "source": [
    "# mean retweet count distribution\n",
    "pd.pivot_table(df, index='airline', values='retweet_count', columns='airline_sentiment', aggfunc='mean').plot.bar();"
   ]
  },
  {
   "cell_type": "code",
   "execution_count": 6,
   "metadata": {},
   "outputs": [
    {
     "data": {
      "image/png": "[encoded data removed]",
      "text/plain": [
       "<matplotlib.figure.Figure at 0x115e1deb8>"
      ]
     },
     "metadata": {},
     "output_type": "display_data"
    }
   ],
   "source": [
    "# mean text length distribution\n",
    "df['text_len'] = df.text.apply(len)\n",
    "pd.pivot_table(df, index='airline', values='text_len', columns='airline_sentiment', aggfunc='mean').plot.bar();"
   ]
  },
  {
   "cell_type": "markdown",
   "metadata": {},
   "source": [
    "## Baselines"
   ]
  },
  {
   "cell_type": "code",
   "execution_count": 7,
   "metadata": {},
   "outputs": [],
   "source": [
    "# we can notice that negative < neutral < positive\n",
    "# let's encode that appropreately\n",
    "df.loc[df.airline_sentiment == 'negative', 'airline_sentiment'] = 0\n",
    "df.loc[df.airline_sentiment == 'neutral', 'airline_sentiment'] = 1\n",
    "df.loc[df.airline_sentiment == 'positive', 'airline_sentiment'] = 2"
   ]
  },
  {
   "cell_type": "code",
   "execution_count": 8,
   "metadata": {},
   "outputs": [
    {
     "data": {
      "text/html": [
       "<div>\n",
       "<table border=\"1\" class=\"dataframe\">\n",
       "  <thead>\n",
       "    <tr style=\"text-align: right;\">\n",
       "      <th></th>\n",
       "      <th>tweet_id</th>\n",
       "      <th>airline_sentiment</th>\n",
       "      <th>airline</th>\n",
       "      <th>retweet_count</th>\n",
       "      <th>text</th>\n",
       "      <th>text_len</th>\n",
       "    </tr>\n",
       "  </thead>\n",
       "  <tbody>\n",
       "    <tr>\n",
       "      <th>0</th>\n",
       "      <td>570306133677760513</td>\n",
       "      <td>1</td>\n",
       "      <td>5</td>\n",
       "      <td>0</td>\n",
       "      <td>@VirginAmerica What @dhepburn said.</td>\n",
       "      <td>35</td>\n",
       "    </tr>\n",
       "    <tr>\n",
       "      <th>1</th>\n",
       "      <td>570301130888122368</td>\n",
       "      <td>2</td>\n",
       "      <td>5</td>\n",
       "      <td>0</td>\n",
       "      <td>@VirginAmerica plus you've added commercials t...</td>\n",
       "      <td>72</td>\n",
       "    </tr>\n",
       "    <tr>\n",
       "      <th>2</th>\n",
       "      <td>570301083672813571</td>\n",
       "      <td>1</td>\n",
       "      <td>5</td>\n",
       "      <td>0</td>\n",
       "      <td>@VirginAmerica I didn't today... Must mean I n...</td>\n",
       "      <td>71</td>\n",
       "    </tr>\n",
       "    <tr>\n",
       "      <th>3</th>\n",
       "      <td>570301031407624196</td>\n",
       "      <td>0</td>\n",
       "      <td>5</td>\n",
       "      <td>0</td>\n",
       "      <td>@VirginAmerica it's really aggressive to blast...</td>\n",
       "      <td>126</td>\n",
       "    </tr>\n",
       "    <tr>\n",
       "      <th>4</th>\n",
       "      <td>570300817074462722</td>\n",
       "      <td>0</td>\n",
       "      <td>5</td>\n",
       "      <td>0</td>\n",
       "      <td>@VirginAmerica and it's a really big bad thing...</td>\n",
       "      <td>55</td>\n",
       "    </tr>\n",
       "  </tbody>\n",
       "</table>\n",
       "</div>"
      ],
      "text/plain": [
       "             tweet_id airline_sentiment  airline  retweet_count  \\\n",
       "0  570306133677760513                 1        5              0   \n",
       "1  570301130888122368                 2        5              0   \n",
       "2  570301083672813571                 1        5              0   \n",
       "3  570301031407624196                 0        5              0   \n",
       "4  570300817074462722                 0        5              0   \n",
       "\n",
       "                                                text  text_len  \n",
       "0                @VirginAmerica What @dhepburn said.        35  \n",
       "1  @VirginAmerica plus you've added commercials t...        72  \n",
       "2  @VirginAmerica I didn't today... Must mean I n...        71  \n",
       "3  @VirginAmerica it's really aggressive to blast...       126  \n",
       "4  @VirginAmerica and it's a really big bad thing...        55  "
      ]
     },
     "execution_count": 8,
     "metadata": {},
     "output_type": "execute_result"
    }
   ],
   "source": [
    "# encode airline as categorial variable\n",
    "airline_le = LabelEncoder()\n",
    "df['airline'] = airline_le.fit_transform(df.airline)\n",
    "df.head()"
   ]
  },
  {
   "cell_type": "code",
   "execution_count": 12,
   "metadata": {},
   "outputs": [
    {
     "name": "stdout",
     "output_type": "stream",
     "text": [
      "train 10980\n",
      "test 3660\n"
     ]
    }
   ],
   "source": [
    "y = df.airline_sentiment.values\n",
    "df_train, df_test, y_train, y_test = train_test_split(df, y, test_size=0.25, \n",
    "                                                                      stratify=y,\n",
    "                                                                      random_state=SEED)\n",
    "\n",
    "y_train = y_train.astype(int)\n",
    "y_test = y_test.astype(int)\n",
    "\n",
    "print('train', df_train.shape[0])\n",
    "print('test', df_test.shape[0])"
   ]
  },
  {
   "cell_type": "code",
   "execution_count": 13,
   "metadata": {},
   "outputs": [
    {
     "name": "stdout",
     "output_type": "stream",
     "text": [
      "train 0.336597601652\n",
      "test 0.331959964904\n",
      "CPU times: user 707 ms, sys: 25.5 ms, total: 732 ms\n",
      "Wall time: 751 ms\n"
     ]
    }
   ],
   "source": [
    "%%time\n",
    "# baseline 0\n",
    "# Assigns random class label\n",
    "from sklearn.dummy import DummyClassifier\n",
    "from sklearn.pipeline import Pipeline\n",
    "from sklearn.feature_extraction.text import TfidfVectorizer\n",
    "\n",
    "\n",
    "model = Pipeline([\n",
    "    ('tfidf', TfidfVectorizer()),\n",
    "    ('est', DummyClassifier(strategy='stratified', random_state=SEED))\n",
    "])\n",
    "\n",
    "model.fit(df_train.text, y_train)\n",
    "print('train', metrics.f1_score(y_train, model.predict(df_train.text), average='macro'))\n",
    "print('test', metrics.f1_score(y_test, model.predict(df_test.text), average='macro'))"
   ]
  },
  {
   "cell_type": "code",
   "execution_count": 14,
   "metadata": {},
   "outputs": [],
   "source": [
    "from sklearn.base import TransformerMixin\n",
    "from nltk.stem import SnowballStemmer\n",
    "from nltk.corpus import stopwords\n",
    "import string\n",
    "import re\n",
    "\n",
    "\n",
    "# create wrapper for basic text preprocessing\n",
    "# make lowercase, remove punctuation and make stemming\n",
    "\n",
    "# all transformers (that transform data) must inherit from sklearn.base.TransformerMixin\n",
    "# all classifiers  must inherit from sklearn.base.ClassifierMixin\n",
    "class TextNormalizer(TransformerMixin):\n",
    "    def __init__(self, stop_words=stopwords.words('english'), \n",
    "                 stemmer=SnowballStemmer(\"english\")):\n",
    "        self.stop_words_ = stop_words\n",
    "        self.stemmer_ = stemmer\n",
    "        self.regex_ = re.compile('[%s]' % re.escape(string.punctuation))\n",
    "\n",
    "    # by convention, must return self\n",
    "    def fit(self, X, y):\n",
    "        return self\n",
    "    \n",
    "    def _normalize(self, text):\n",
    "        text = text.lower()\n",
    "        text = self.regex_.sub(' ', text)\n",
    "        text = [self.stemmer_.stem(word) for word in text.split() if word not in self.stop_words_]\n",
    "        return \" \".join(text)\n",
    "\n",
    "    def transform(self, X):\n",
    "        return np.array(list(map(lambda x: self._normalize(x), X)))"
   ]
  },
  {
   "cell_type": "code",
   "execution_count": 15,
   "metadata": {},
   "outputs": [
    {
     "name": "stderr",
     "output_type": "stream",
     "text": [
      "Using TensorFlow backend.\n"
     ]
    }
   ],
   "source": [
    "# some wrappers to work with word2vec\n",
    "from gensim.models.word2vec import Word2Vec\n",
    "from sklearn.feature_extraction.text import TfidfVectorizer\n",
    "from collections import defaultdict\n",
    "from glove import Corpus, Glove\n",
    "\n",
    "from sklearn.pipeline import Pipeline\n",
    "from sklearn.linear_model import LogisticRegressionCV\n",
    "from nltk.corpus import stopwords\n",
    "\n",
    "\n",
    "# convert words from tweet to vectors and average them over tweet\n",
    "# or use weighted average according to idf\n",
    "class Text2Vec(TransformerMixin):\n",
    "    def __init__(self, vectorizer, use_idf=False):\n",
    "        self.use_idf_ = use_idf\n",
    "        self.w2v = vectorizer\n",
    "        self.size_ = self.w2v.get_size()\n",
    "        self.weights_ = None\n",
    "\n",
    "    def fit(self, X, y=None):\n",
    "        self.w2v.fit(X)\n",
    "        \n",
    "        if self.use_idf_:\n",
    "            tfidf = TfidfVectorizer(analyzer=lambda x: x)\n",
    "            tfidf.fit(X)\n",
    "            # if a word was never seen - it must be at least as infrequent\n",
    "            # as any of the known words - so the default idf is the max of known idf's\n",
    "            max_idf = max(tfidf.idf_)\n",
    "            self.weights_ = defaultdict(lambda: max_idf, [(w, tfidf.idf_[i]) for w, i in tfidf.vocabulary_.items()])\n",
    "\n",
    "        return self\n",
    "\n",
    "    def transform(self, X):\n",
    "        if self.w2v is None:\n",
    "            raise Exception('model not fitted')\n",
    "            \n",
    "        if self.use_idf_:\n",
    "            if self.weights_ is None:\n",
    "                raise Exception('model not fitted')\n",
    "                \n",
    "            result = np.array([np.mean([self.w2v.transform(w) * self.weights_[w] for w in sentence.split() if self.w2v.has(w)]\n",
    "                                       or [np.zeros(self.size_)], axis=0) for sentence in X])\n",
    "        else:\n",
    "            result = np.array([np.mean([self.w2v.transform(w) for w in sentence.split() if self.w2v.has(w)] \n",
    "                                       or [np.zeros(self.size_)], axis=0) for sentence in X])\n",
    "        return result\n",
    "    \n",
    "    \n",
    "class Word2VecWrapper(TransformerMixin):\n",
    "    def __init__(self, window=5,negative=5, size=100, iter=100, is_cbow=False, random_state=SEED):\n",
    "        self.window_ = window\n",
    "        self.negative_ = negative\n",
    "        self.size_ = size\n",
    "        self.iter_ = iter\n",
    "        self.is_cbow_ = is_cbow\n",
    "        self.w2v = None\n",
    "        self.random_state = random_state\n",
    "        \n",
    "    def get_size(self):\n",
    "        return self.size_\n",
    "\n",
    "    def fit(self, X, y=None):\n",
    "        \"\"\"\n",
    "        X: list of strings\n",
    "        \"\"\"\n",
    "        sentences_list = [x.split() for x in X]\n",
    "        self.w2v = Word2Vec(sentences_list, \n",
    "                            window=self.window_,\n",
    "                            negative=self.negative_, \n",
    "                            size=self.size_, \n",
    "                            iter=self.iter_,\n",
    "                            sg=not self.is_cbow_, seed=self.random_state)\n",
    "\n",
    "        return self\n",
    "    \n",
    "    def has(self, word):\n",
    "        return word in self.w2v\n",
    "\n",
    "    def transform(self, X):\n",
    "        \"\"\"\n",
    "        X: a word\n",
    "        \"\"\"\n",
    "        if self.w2v is None:\n",
    "            raise Exception('model not fitted')\n",
    "        return self.w2v[X] if X in self.w2v else np.zeros(self.size_)\n",
    "    \n",
    "\n",
    "class GloveWrapper(TransformerMixin):\n",
    "    def __init__(self, window=5, learning_rate=0.05, size=100, epochs=100, random_state=SEED, verbose=False):\n",
    "        self.window_ = window\n",
    "        self.learning_rate_ = learning_rate\n",
    "        self.size_ = size\n",
    "        self.epochs_ = epochs\n",
    "        self.glove = None\n",
    "        self.random_state = random_state\n",
    "        self.verbose_ = verbose\n",
    "    \n",
    "    def get_size(self):\n",
    "        return self.size_\n",
    "\n",
    "    def fit(self, X, y=None):\n",
    "        \"\"\"\n",
    "        X: list of strings\n",
    "        \"\"\"\n",
    "        sentences_list = [x.split() for x in X]\n",
    "        corpus = Corpus()\n",
    "        corpus.fit(sentences_list, window=self.window_)\n",
    "        self.glove = Glove(no_components=self.size_, \n",
    "                           learning_rate=self.learning_rate_, \n",
    "                           random_state=self.random_state)\n",
    "        self.glove.fit(corpus.matrix, \n",
    "                  epochs=self.epochs_, \n",
    "                  no_threads=4, verbose=self.verbose_)\n",
    "        self.glove.add_dictionary(corpus.dictionary)\n",
    "        return self\n",
    "    \n",
    "    def has(self, word):\n",
    "        return word in self.glove.dictionary\n",
    "\n",
    "    def transform(self, X):\n",
    "        if self.glove is None:\n",
    "            raise Exception('model not fitted')\n",
    "            \n",
    "        return self.glove.word_vectors[self.glove.dictionary[X]] if X in self.glove.dictionary else np.zeros(self.size_)\n",
    "\n",
    "    \n",
    "class WordEmbeddingFabric:\n",
    "    @classmethod\n",
    "    def create(cls, method, size, cbow, n_iter=300):\n",
    "        if method == 'word2vec':\n",
    "            return Word2VecWrapper(window=3, negative=5, size=size, iter=n_iter, is_cbow=cbow)\n",
    "                    \n",
    "        if method == 'glove':\n",
    "            return GloveWrapper(window=3, learning_rate=0.05, size=size, epochs=n_iter, verbose=False)"
   ]
  },
  {
   "cell_type": "code",
   "execution_count": 17,
   "metadata": {},
   "outputs": [
    {
     "name": "stderr",
     "output_type": "stream",
     "text": [
      "/opt/anaconda3/lib/python3.5/site-packages/sklearn/metrics/classification.py:1135: UndefinedMetricWarning: F-score is ill-defined and being set to 0.0 in labels with no predicted samples.\n",
      "  'precision', 'predicted', average, warn_for)\n",
      "/opt/anaconda3/lib/python3.5/site-packages/sklearn/metrics/classification.py:1135: UndefinedMetricWarning: F-score is ill-defined and being set to 0.0 in labels with no predicted samples.\n",
      "  'precision', 'predicted', average, warn_for)\n",
      "/opt/anaconda3/lib/python3.5/site-packages/sklearn/metrics/classification.py:1135: UndefinedMetricWarning: F-score is ill-defined and being set to 0.0 in labels with no predicted samples.\n",
      "  'precision', 'predicted', average, warn_for)\n",
      "/opt/anaconda3/lib/python3.5/site-packages/sklearn/metrics/classification.py:1135: UndefinedMetricWarning: F-score is ill-defined and being set to 0.0 in labels with no predicted samples.\n",
      "  'precision', 'predicted', average, warn_for)\n",
      "/opt/anaconda3/lib/python3.5/site-packages/sklearn/metrics/classification.py:1135: UndefinedMetricWarning: F-score is ill-defined and being set to 0.0 in labels with no predicted samples.\n",
      "  'precision', 'predicted', average, warn_for)\n"
     ]
    },
    {
     "name": "stdout",
     "output_type": "stream",
     "text": [
      "train 0.74300023629\n",
      "test 0.694142995315\n",
      "CPU times: user 4min 25s, sys: 636 ms, total: 4min 25s\n",
      "Wall time: 3min 6s\n"
     ]
    }
   ],
   "source": [
    "%%time\n",
    "# baseline 1\n",
    "# text norm + word embedding + logistic regression\n",
    "# in case of logistic regression we can do grid search more efficiently - \n",
    "# that's why LogisticRegressionCV over GridSearchCV\n",
    "\n",
    "model = Pipeline([\n",
    "    ('norm', TextNormalizer()),\n",
    "    ('embedding', Text2Vec(WordEmbeddingFabric.create('word2vec', size=500, cbow=False, n_iter=300), use_idf=False)),\n",
    "    ('est', LogisticRegressionCV(penalty='l2', multi_class='multinomial', solver='newton-cg', random_state=SEED, Cs=6,\n",
    "                                    cv=5, scoring='f1_macro', n_jobs=-1))\n",
    "])\n",
    "\n",
    "model.fit(df_train.text, y_train)\n",
    "\n",
    "print('train', metrics.f1_score(y_train, model.predict(df_train.text), average='macro'))\n",
    "print('test', metrics.f1_score(y_test, model.predict(df_test.text), average='macro'))"
   ]
  },
  {
   "cell_type": "code",
   "execution_count": 18,
   "metadata": {},
   "outputs": [
    {
     "name": "stderr",
     "output_type": "stream",
     "text": [
      "/opt/anaconda3/lib/python3.5/site-packages/sklearn/metrics/classification.py:1135: UndefinedMetricWarning: F-score is ill-defined and being set to 0.0 in labels with no predicted samples.\n",
      "  'precision', 'predicted', average, warn_for)\n",
      "/opt/anaconda3/lib/python3.5/site-packages/sklearn/metrics/classification.py:1135: UndefinedMetricWarning: F-score is ill-defined and being set to 0.0 in labels with no predicted samples.\n",
      "  'precision', 'predicted', average, warn_for)\n",
      "/opt/anaconda3/lib/python3.5/site-packages/sklearn/metrics/classification.py:1135: UndefinedMetricWarning: F-score is ill-defined and being set to 0.0 in labels with no predicted samples.\n",
      "  'precision', 'predicted', average, warn_for)\n",
      "/opt/anaconda3/lib/python3.5/site-packages/sklearn/metrics/classification.py:1135: UndefinedMetricWarning: F-score is ill-defined and being set to 0.0 in labels with no predicted samples.\n",
      "  'precision', 'predicted', average, warn_for)\n",
      "/opt/anaconda3/lib/python3.5/site-packages/sklearn/metrics/classification.py:1135: UndefinedMetricWarning: F-score is ill-defined and being set to 0.0 in labels with no predicted samples.\n",
      "  'precision', 'predicted', average, warn_for)\n"
     ]
    },
    {
     "name": "stdout",
     "output_type": "stream",
     "text": [
      "train 0.863410434791\n",
      "test 0.699070342566\n",
      "CPU times: user 5.71 s, sys: 304 ms, total: 6.02 s\n",
      "Wall time: 7.13 s\n"
     ]
    }
   ],
   "source": [
    "%%time\n",
    "# baseline 2\n",
    "# simple tf-idf over words + logistic regression\n",
    "\n",
    "model = Pipeline([\n",
    "    ('tfidf', TfidfVectorizer(analyzer='word', use_idf=True, smooth_idf=True,\n",
    "                                  lowercase=True, \n",
    "                                  stop_words=stopwords.words('english'),\n",
    "                                  min_df=5,\n",
    "                                  ngram_range=(1,2), norm='l2')),\n",
    "    ('est', LogisticRegressionCV(Cs=10, \n",
    "                                    cv=5, \n",
    "                                    scoring='f1_macro', \n",
    "                                    n_jobs=-1, \n",
    "                                    multi_class='multinomial', random_state=SEED))\n",
    "])\n",
    "\n",
    "model.fit(df_train.text, y_train)\n",
    "print('train', metrics.f1_score(y_train, model.predict(df_train.text), average='macro'))\n",
    "print('test', metrics.f1_score(y_test, model.predict(df_test.text), average='macro'))"
   ]
  },
  {
   "cell_type": "code",
   "execution_count": 19,
   "metadata": {},
   "outputs": [
    {
     "name": "stderr",
     "output_type": "stream",
     "text": [
      "/opt/anaconda3/lib/python3.5/site-packages/sklearn/metrics/classification.py:1135: UndefinedMetricWarning: F-score is ill-defined and being set to 0.0 in labels with no predicted samples.\n",
      "  'precision', 'predicted', average, warn_for)\n",
      "/opt/anaconda3/lib/python3.5/site-packages/sklearn/metrics/classification.py:1135: UndefinedMetricWarning: F-score is ill-defined and being set to 0.0 in labels with no predicted samples.\n",
      "  'precision', 'predicted', average, warn_for)\n",
      "/opt/anaconda3/lib/python3.5/site-packages/sklearn/metrics/classification.py:1135: UndefinedMetricWarning: F-score is ill-defined and being set to 0.0 in labels with no predicted samples.\n",
      "  'precision', 'predicted', average, warn_for)\n",
      "/opt/anaconda3/lib/python3.5/site-packages/sklearn/metrics/classification.py:1135: UndefinedMetricWarning: F-score is ill-defined and being set to 0.0 in labels with no predicted samples.\n",
      "  'precision', 'predicted', average, warn_for)\n",
      "/opt/anaconda3/lib/python3.5/site-packages/sklearn/metrics/classification.py:1135: UndefinedMetricWarning: F-score is ill-defined and being set to 0.0 in labels with no predicted samples.\n",
      "  'precision', 'predicted', average, warn_for)\n"
     ]
    },
    {
     "name": "stdout",
     "output_type": "stream",
     "text": [
      "train 0.864006287893\n",
      "test 0.741812925565\n",
      "CPU times: user 48.1 s, sys: 1.34 s, total: 49.4 s\n",
      "Wall time: 52.3 s\n"
     ]
    }
   ],
   "source": [
    "%%time\n",
    "# baseline 3\n",
    "# simple tf-idf over symbols + logistic regression\n",
    "from sklearn.pipeline import Pipeline\n",
    "from sklearn.linear_model import LogisticRegressionCV\n",
    "from sklearn.feature_extraction.text import TfidfVectorizer\n",
    "from nltk.corpus import stopwords\n",
    "\n",
    "\n",
    "model = Pipeline([\n",
    "    ('tfidf', TfidfVectorizer(analyzer='char', use_idf=True, smooth_idf=True,\n",
    "                                  lowercase=True, \n",
    "                                  stop_words=stopwords.words('english'),\n",
    "                                  min_df=5,\n",
    "                                  ngram_range=(1,3), norm='l2')),\n",
    "    ('est', LogisticRegressionCV(Cs=10, \n",
    "                                    cv=5, \n",
    "                                    scoring='f1_macro', \n",
    "                                    n_jobs=-1, \n",
    "                                    multi_class='multinomial', random_state=SEED))\n",
    "])\n",
    "\n",
    "model.fit(df_train.text, y_train)\n",
    "print('train', metrics.f1_score(y_train, model.predict(df_train.text), average='macro'))\n",
    "print('test', metrics.f1_score(y_test, model.predict(df_test.text), average='macro'))"
   ]
  },
  {
   "cell_type": "markdown",
   "metadata": {},
   "source": [
    "# First attempt"
   ]
  },
  {
   "cell_type": "code",
   "execution_count": 16,
   "metadata": {},
   "outputs": [
    {
     "name": "stderr",
     "output_type": "stream",
     "text": [
      "/usr/local/lib/python3.6/site-packages/sklearn/metrics/classification.py:1113: UndefinedMetricWarning: F-score is ill-defined and being set to 0.0 in labels with no predicted samples.\n",
      "  'precision', 'predicted', average, warn_for)\n",
      "/usr/local/lib/python3.6/site-packages/sklearn/metrics/classification.py:1113: UndefinedMetricWarning: F-score is ill-defined and being set to 0.0 in labels with no predicted samples.\n",
      "  'precision', 'predicted', average, warn_for)\n",
      "/usr/local/lib/python3.6/site-packages/sklearn/metrics/classification.py:1113: UndefinedMetricWarning: F-score is ill-defined and being set to 0.0 in labels with no predicted samples.\n",
      "  'precision', 'predicted', average, warn_for)\n",
      "/usr/local/lib/python3.6/site-packages/sklearn/metrics/classification.py:1113: UndefinedMetricWarning: F-score is ill-defined and being set to 0.0 in labels with no predicted samples.\n",
      "  'precision', 'predicted', average, warn_for)\n"
     ]
    },
    {
     "name": "stdout",
     "output_type": "stream",
     "text": [
      "train 0.992582019372\n",
      "test 0.745645412083\n",
      "CPU times: user 15.8 s, sys: 574 ms, total: 16.4 s\n",
      "Wall time: 2min 24s\n"
     ]
    }
   ],
   "source": [
    "%%time\n",
    "\n",
    "from sklearn.pipeline import Pipeline\n",
    "from sklearn.linear_model import LogisticRegressionCV\n",
    "from sklearn.feature_extraction.text import TfidfVectorizer\n",
    "from nltk.corpus import stopwords\n",
    "\n",
    "\n",
    "model = Pipeline([\n",
    "    ('tfidf', TfidfVectorizer(analyzer='char', use_idf=True, smooth_idf=True,\n",
    "                                  lowercase=True, \n",
    "                                  stop_words=stopwords.words('english'),\n",
    "                                  min_df=5,\n",
    "                                  ngram_range=(1,4), norm='l2')),\n",
    "    ('est', LogisticRegressionCV(Cs=10, \n",
    "                                    cv=5, \n",
    "                                    scoring='f1_macro', \n",
    "                                    n_jobs=-1, \n",
    "                                    multi_class='multinomial', random_state=SEED))\n",
    "])\n",
    "\n",
    "model.fit(df_train.text, y_train)\n",
    "print('train', metrics.f1_score(y_train, model.predict(df_train.text), average='macro'))\n",
    "print('test', metrics.f1_score(y_test, model.predict(df_test.text), average='macro'))"
   ]
  },
  {
   "cell_type": "markdown",
   "metadata": {},
   "source": [
    "# Results"
   ]
  },
  {
   "cell_type": "markdown",
   "metadata": {},
   "source": [
    "As a result, f1 score of **0.745645412083** was achieved on the model."
   ]
  }
 ],
 "metadata": {
  "kernelspec": {
   "display_name": "Python 3",
   "language": "python",
   "name": "python3"
  },
  "language_info": {
   "codemirror_mode": {
    "name": "ipython",
    "version": 3
   },
   "file_extension": ".py",
   "mimetype": "text/x-python",
   "name": "python",
   "nbconvert_exporter": "python",
   "pygments_lexer": "ipython3",
   "version": "3.6.4"
  }
 },
 "nbformat": 4,
 "nbformat_minor": 2
}
